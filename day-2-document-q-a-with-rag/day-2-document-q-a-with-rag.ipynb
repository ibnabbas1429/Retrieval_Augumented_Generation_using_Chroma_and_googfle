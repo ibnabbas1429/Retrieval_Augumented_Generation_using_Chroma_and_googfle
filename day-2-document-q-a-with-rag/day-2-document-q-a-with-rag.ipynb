{
 "cells": [
  {
   "cell_type": "markdown",
   "metadata": {},
   "source": [
    "# Creating a document question and answer Retrieval Augumented Generation using Chroma\n",
    "\n",
    " A RAG system has three stages:\n",
    "\n",
    "Indexing\n",
    "Retrieval\n",
    "Generation\n",
    "Indexing happens ahead of time, and allows you to quickly look up relevant information at query-time. When a query comes in, you retrieve relevant documents, combine them with your instructions and the user's query, and have the LLM generate a tailored answer in natural language using the supplied information. This allows you to provide information that the model hasn't seen before, such as product-specific knowledge or live weather updates.\n",
    "\n",
    "In this notebook you will use the Gemini API to create a vector database, retrieve answers to questions from the database and generate a final answer. You will use Chroma, an open-source vector database. With Chroma, you can store embeddings alongside metadata, embed documents and queries, and search your documents."
   ]
  },
  {
   "cell_type": "markdown",
   "metadata": {},
   "source": [
    "## Install the necesssary libraries\n"
   ]
  },
  {
   "cell_type": "code",
   "execution_count": 2,
   "metadata": {},
   "outputs": [
    {
     "name": "stdout",
     "output_type": "stream",
     "text": [
      "Requirement already satisfied: google-generativeai>=0.8.3 in c:\\users\\ibnab\\.conda\\envs\\genai\\lib\\site-packages (0.8.4)\n",
      "Requirement already satisfied: chromadb in c:\\users\\ibnab\\.conda\\envs\\genai\\lib\\site-packages (0.6.3)\n",
      "Requirement already satisfied: google-ai-generativelanguage==0.6.15 in c:\\users\\ibnab\\.conda\\envs\\genai\\lib\\site-packages (from google-generativeai>=0.8.3) (0.6.15)\n",
      "Requirement already satisfied: google-api-core in c:\\users\\ibnab\\.conda\\envs\\genai\\lib\\site-packages (from google-generativeai>=0.8.3) (2.24.1)\n",
      "Requirement already satisfied: google-api-python-client in c:\\users\\ibnab\\.conda\\envs\\genai\\lib\\site-packages (from google-generativeai>=0.8.3) (2.160.0)\n",
      "Requirement already satisfied: google-auth>=2.15.0 in c:\\users\\ibnab\\.conda\\envs\\genai\\lib\\site-packages (from google-generativeai>=0.8.3) (2.29.0)\n",
      "Requirement already satisfied: protobuf in c:\\users\\ibnab\\.conda\\envs\\genai\\lib\\site-packages (from google-generativeai>=0.8.3) (5.29.3)\n",
      "Requirement already satisfied: pydantic in c:\\users\\ibnab\\.conda\\envs\\genai\\lib\\site-packages (from google-generativeai>=0.8.3) (2.10.6)\n",
      "Requirement already satisfied: tqdm in c:\\users\\ibnab\\.conda\\envs\\genai\\lib\\site-packages (from google-generativeai>=0.8.3) (4.67.1)\n",
      "Requirement already satisfied: typing-extensions in c:\\users\\ibnab\\.conda\\envs\\genai\\lib\\site-packages (from google-generativeai>=0.8.3) (4.12.2)\n",
      "Requirement already satisfied: proto-plus<2.0.0dev,>=1.22.3 in c:\\users\\ibnab\\.conda\\envs\\genai\\lib\\site-packages (from google-ai-generativelanguage==0.6.15->google-generativeai>=0.8.3) (1.26.0)\n",
      "Requirement already satisfied: build>=1.0.3 in c:\\users\\ibnab\\.conda\\envs\\genai\\lib\\site-packages (from chromadb) (1.2.2.post1)\n",
      "Requirement already satisfied: chroma-hnswlib==0.7.6 in c:\\users\\ibnab\\.conda\\envs\\genai\\lib\\site-packages (from chromadb) (0.7.6)\n",
      "Requirement already satisfied: fastapi>=0.95.2 in c:\\users\\ibnab\\.conda\\envs\\genai\\lib\\site-packages (from chromadb) (0.115.8)\n",
      "Requirement already satisfied: uvicorn>=0.18.3 in c:\\users\\ibnab\\.conda\\envs\\genai\\lib\\site-packages (from uvicorn[standard]>=0.18.3->chromadb) (0.34.0)\n",
      "Requirement already satisfied: numpy>=1.22.5 in c:\\users\\ibnab\\.conda\\envs\\genai\\lib\\site-packages (from chromadb) (1.26.4)\n",
      "Requirement already satisfied: posthog>=2.4.0 in c:\\users\\ibnab\\.conda\\envs\\genai\\lib\\site-packages (from chromadb) (3.11.0)\n",
      "Requirement already satisfied: onnxruntime>=1.14.1 in c:\\users\\ibnab\\.conda\\envs\\genai\\lib\\site-packages (from chromadb) (1.20.1)\n",
      "Requirement already satisfied: opentelemetry-api>=1.2.0 in c:\\users\\ibnab\\.conda\\envs\\genai\\lib\\site-packages (from chromadb) (1.29.0)\n",
      "Requirement already satisfied: opentelemetry-exporter-otlp-proto-grpc>=1.2.0 in c:\\users\\ibnab\\.conda\\envs\\genai\\lib\\site-packages (from chromadb) (1.29.0)\n",
      "Requirement already satisfied: opentelemetry-instrumentation-fastapi>=0.41b0 in c:\\users\\ibnab\\.conda\\envs\\genai\\lib\\site-packages (from chromadb) (0.50b0)\n",
      "Requirement already satisfied: opentelemetry-sdk>=1.2.0 in c:\\users\\ibnab\\.conda\\envs\\genai\\lib\\site-packages (from chromadb) (1.29.0)\n",
      "Requirement already satisfied: tokenizers>=0.13.2 in c:\\users\\ibnab\\.conda\\envs\\genai\\lib\\site-packages (from chromadb) (0.15.1)\n",
      "Requirement already satisfied: pypika>=0.48.9 in c:\\users\\ibnab\\.conda\\envs\\genai\\lib\\site-packages (from chromadb) (0.48.9)\n",
      "Requirement already satisfied: overrides>=7.3.1 in c:\\users\\ibnab\\.conda\\envs\\genai\\lib\\site-packages (from chromadb) (7.4.0)\n",
      "Requirement already satisfied: importlib-resources in c:\\users\\ibnab\\.conda\\envs\\genai\\lib\\site-packages (from chromadb) (6.5.2)\n",
      "Requirement already satisfied: grpcio>=1.58.0 in c:\\users\\ibnab\\.conda\\envs\\genai\\lib\\site-packages (from chromadb) (1.70.0)\n",
      "Requirement already satisfied: bcrypt>=4.0.1 in c:\\users\\ibnab\\.conda\\envs\\genai\\lib\\site-packages (from chromadb) (4.2.1)\n",
      "Requirement already satisfied: typer>=0.9.0 in c:\\users\\ibnab\\.conda\\envs\\genai\\lib\\site-packages (from chromadb) (0.15.1)\n",
      "Requirement already satisfied: kubernetes>=28.1.0 in c:\\users\\ibnab\\.conda\\envs\\genai\\lib\\site-packages (from chromadb) (32.0.0)\n",
      "Requirement already satisfied: tenacity>=8.2.3 in c:\\users\\ibnab\\.conda\\envs\\genai\\lib\\site-packages (from chromadb) (9.0.0)\n",
      "Requirement already satisfied: PyYAML>=6.0.0 in c:\\users\\ibnab\\.conda\\envs\\genai\\lib\\site-packages (from chromadb) (6.0.2)\n",
      "Requirement already satisfied: mmh3>=4.0.1 in c:\\users\\ibnab\\.conda\\envs\\genai\\lib\\site-packages (from chromadb) (5.1.0)\n",
      "Requirement already satisfied: orjson>=3.9.12 in c:\\users\\ibnab\\.conda\\envs\\genai\\lib\\site-packages (from chromadb) (3.10.15)\n",
      "Requirement already satisfied: httpx>=0.27.0 in c:\\users\\ibnab\\.conda\\envs\\genai\\lib\\site-packages (from chromadb) (0.27.0)\n",
      "Requirement already satisfied: rich>=10.11.0 in c:\\users\\ibnab\\.conda\\envs\\genai\\lib\\site-packages (from chromadb) (13.9.4)\n",
      "Requirement already satisfied: packaging>=19.1 in c:\\users\\ibnab\\.conda\\envs\\genai\\lib\\site-packages (from build>=1.0.3->chromadb) (24.2)\n",
      "Requirement already satisfied: pyproject_hooks in c:\\users\\ibnab\\.conda\\envs\\genai\\lib\\site-packages (from build>=1.0.3->chromadb) (1.2.0)\n",
      "Requirement already satisfied: colorama in c:\\users\\ibnab\\.conda\\envs\\genai\\lib\\site-packages (from build>=1.0.3->chromadb) (0.4.6)\n",
      "Requirement already satisfied: tomli>=1.1.0 in c:\\users\\ibnab\\.conda\\envs\\genai\\lib\\site-packages (from build>=1.0.3->chromadb) (2.0.1)\n",
      "Requirement already satisfied: starlette<0.46.0,>=0.40.0 in c:\\users\\ibnab\\.conda\\envs\\genai\\lib\\site-packages (from fastapi>=0.95.2->chromadb) (0.45.3)\n",
      "Requirement already satisfied: googleapis-common-protos<2.0.dev0,>=1.56.2 in c:\\users\\ibnab\\.conda\\envs\\genai\\lib\\site-packages (from google-api-core->google-generativeai>=0.8.3) (1.66.0)\n",
      "Requirement already satisfied: requests<3.0.0.dev0,>=2.18.0 in c:\\users\\ibnab\\.conda\\envs\\genai\\lib\\site-packages (from google-api-core->google-generativeai>=0.8.3) (2.32.3)\n",
      "Requirement already satisfied: cachetools<6.0,>=2.0.0 in c:\\users\\ibnab\\.conda\\envs\\genai\\lib\\site-packages (from google-auth>=2.15.0->google-generativeai>=0.8.3) (5.3.3)\n",
      "Requirement already satisfied: pyasn1-modules>=0.2.1 in c:\\users\\ibnab\\.conda\\envs\\genai\\lib\\site-packages (from google-auth>=2.15.0->google-generativeai>=0.8.3) (0.2.8)\n",
      "Requirement already satisfied: rsa<5,>=3.1.4 in c:\\users\\ibnab\\.conda\\envs\\genai\\lib\\site-packages (from google-auth>=2.15.0->google-generativeai>=0.8.3) (4.7.2)\n",
      "Requirement already satisfied: anyio in c:\\users\\ibnab\\.conda\\envs\\genai\\lib\\site-packages (from httpx>=0.27.0->chromadb) (4.6.2)\n",
      "Requirement already satisfied: certifi in c:\\users\\ibnab\\.conda\\envs\\genai\\lib\\site-packages (from httpx>=0.27.0->chromadb) (2024.12.14)\n",
      "Requirement already satisfied: httpcore==1.* in c:\\users\\ibnab\\.conda\\envs\\genai\\lib\\site-packages (from httpx>=0.27.0->chromadb) (1.0.2)\n",
      "Requirement already satisfied: idna in c:\\users\\ibnab\\.conda\\envs\\genai\\lib\\site-packages (from httpx>=0.27.0->chromadb) (3.7)\n",
      "Requirement already satisfied: sniffio in c:\\users\\ibnab\\.conda\\envs\\genai\\lib\\site-packages (from httpx>=0.27.0->chromadb) (1.3.0)\n",
      "Requirement already satisfied: h11<0.15,>=0.13 in c:\\users\\ibnab\\.conda\\envs\\genai\\lib\\site-packages (from httpcore==1.*->httpx>=0.27.0->chromadb) (0.14.0)\n",
      "Requirement already satisfied: six>=1.9.0 in c:\\users\\ibnab\\.conda\\envs\\genai\\lib\\site-packages (from kubernetes>=28.1.0->chromadb) (1.16.0)\n",
      "Requirement already satisfied: python-dateutil>=2.5.3 in c:\\users\\ibnab\\.conda\\envs\\genai\\lib\\site-packages (from kubernetes>=28.1.0->chromadb) (2.9.0.post0)\n",
      "Requirement already satisfied: websocket-client!=0.40.0,!=0.41.*,!=0.42.*,>=0.32.0 in c:\\users\\ibnab\\.conda\\envs\\genai\\lib\\site-packages (from kubernetes>=28.1.0->chromadb) (1.8.0)\n",
      "Requirement already satisfied: requests-oauthlib in c:\\users\\ibnab\\.conda\\envs\\genai\\lib\\site-packages (from kubernetes>=28.1.0->chromadb) (2.0.0)\n",
      "Requirement already satisfied: oauthlib>=3.2.2 in c:\\users\\ibnab\\.conda\\envs\\genai\\lib\\site-packages (from kubernetes>=28.1.0->chromadb) (3.2.2)\n",
      "Requirement already satisfied: urllib3>=1.24.2 in c:\\users\\ibnab\\.conda\\envs\\genai\\lib\\site-packages (from kubernetes>=28.1.0->chromadb) (2.3.0)\n",
      "Requirement already satisfied: durationpy>=0.7 in c:\\users\\ibnab\\.conda\\envs\\genai\\lib\\site-packages (from kubernetes>=28.1.0->chromadb) (0.9)\n",
      "Requirement already satisfied: coloredlogs in c:\\users\\ibnab\\.conda\\envs\\genai\\lib\\site-packages (from onnxruntime>=1.14.1->chromadb) (15.0.1)\n",
      "Requirement already satisfied: flatbuffers in c:\\users\\ibnab\\.conda\\envs\\genai\\lib\\site-packages (from onnxruntime>=1.14.1->chromadb) (24.3.25)\n",
      "Requirement already satisfied: sympy in c:\\users\\ibnab\\.conda\\envs\\genai\\lib\\site-packages (from onnxruntime>=1.14.1->chromadb) (1.13.1)\n",
      "Requirement already satisfied: deprecated>=1.2.6 in c:\\users\\ibnab\\.conda\\envs\\genai\\lib\\site-packages (from opentelemetry-api>=1.2.0->chromadb) (1.2.18)\n",
      "Requirement already satisfied: importlib-metadata<=8.5.0,>=6.0 in c:\\users\\ibnab\\.conda\\envs\\genai\\lib\\site-packages (from opentelemetry-api>=1.2.0->chromadb) (8.5.0)\n",
      "Requirement already satisfied: opentelemetry-exporter-otlp-proto-common==1.29.0 in c:\\users\\ibnab\\.conda\\envs\\genai\\lib\\site-packages (from opentelemetry-exporter-otlp-proto-grpc>=1.2.0->chromadb) (1.29.0)\n",
      "Requirement already satisfied: opentelemetry-proto==1.29.0 in c:\\users\\ibnab\\.conda\\envs\\genai\\lib\\site-packages (from opentelemetry-exporter-otlp-proto-grpc>=1.2.0->chromadb) (1.29.0)\n",
      "Requirement already satisfied: opentelemetry-instrumentation-asgi==0.50b0 in c:\\users\\ibnab\\.conda\\envs\\genai\\lib\\site-packages (from opentelemetry-instrumentation-fastapi>=0.41b0->chromadb) (0.50b0)\n",
      "Requirement already satisfied: opentelemetry-instrumentation==0.50b0 in c:\\users\\ibnab\\.conda\\envs\\genai\\lib\\site-packages (from opentelemetry-instrumentation-fastapi>=0.41b0->chromadb) (0.50b0)\n",
      "Requirement already satisfied: opentelemetry-semantic-conventions==0.50b0 in c:\\users\\ibnab\\.conda\\envs\\genai\\lib\\site-packages (from opentelemetry-instrumentation-fastapi>=0.41b0->chromadb) (0.50b0)\n",
      "Requirement already satisfied: opentelemetry-util-http==0.50b0 in c:\\users\\ibnab\\.conda\\envs\\genai\\lib\\site-packages (from opentelemetry-instrumentation-fastapi>=0.41b0->chromadb) (0.50b0)\n",
      "Requirement already satisfied: wrapt<2.0.0,>=1.0.0 in c:\\users\\ibnab\\.conda\\envs\\genai\\lib\\site-packages (from opentelemetry-instrumentation==0.50b0->opentelemetry-instrumentation-fastapi>=0.41b0->chromadb) (1.17.0)\n",
      "Requirement already satisfied: asgiref~=3.0 in c:\\users\\ibnab\\.conda\\envs\\genai\\lib\\site-packages (from opentelemetry-instrumentation-asgi==0.50b0->opentelemetry-instrumentation-fastapi>=0.41b0->chromadb) (3.8.1)\n",
      "Requirement already satisfied: monotonic>=1.5 in c:\\users\\ibnab\\.conda\\envs\\genai\\lib\\site-packages (from posthog>=2.4.0->chromadb) (1.6)\n",
      "Requirement already satisfied: backoff>=1.10.0 in c:\\users\\ibnab\\.conda\\envs\\genai\\lib\\site-packages (from posthog>=2.4.0->chromadb) (2.2.1)\n",
      "Requirement already satisfied: annotated-types>=0.6.0 in c:\\users\\ibnab\\.conda\\envs\\genai\\lib\\site-packages (from pydantic->google-generativeai>=0.8.3) (0.7.0)\n",
      "Requirement already satisfied: pydantic-core==2.27.2 in c:\\users\\ibnab\\.conda\\envs\\genai\\lib\\site-packages (from pydantic->google-generativeai>=0.8.3) (2.27.2)\n",
      "Requirement already satisfied: markdown-it-py>=2.2.0 in c:\\users\\ibnab\\.conda\\envs\\genai\\lib\\site-packages (from rich>=10.11.0->chromadb) (3.0.0)\n",
      "Requirement already satisfied: pygments<3.0.0,>=2.13.0 in c:\\users\\ibnab\\.conda\\envs\\genai\\lib\\site-packages (from rich>=10.11.0->chromadb) (2.15.1)\n",
      "Requirement already satisfied: huggingface_hub<1.0,>=0.16.4 in c:\\users\\ibnab\\.conda\\envs\\genai\\lib\\site-packages (from tokenizers>=0.13.2->chromadb) (0.27.1)\n",
      "Requirement already satisfied: click>=8.0.0 in c:\\users\\ibnab\\.conda\\envs\\genai\\lib\\site-packages (from typer>=0.9.0->chromadb) (8.1.7)\n",
      "Requirement already satisfied: shellingham>=1.3.0 in c:\\users\\ibnab\\.conda\\envs\\genai\\lib\\site-packages (from typer>=0.9.0->chromadb) (1.5.4)\n",
      "Requirement already satisfied: httptools>=0.6.3 in c:\\users\\ibnab\\.conda\\envs\\genai\\lib\\site-packages (from uvicorn[standard]>=0.18.3->chromadb) (0.6.4)\n",
      "Requirement already satisfied: python-dotenv>=0.13 in c:\\users\\ibnab\\.conda\\envs\\genai\\lib\\site-packages (from uvicorn[standard]>=0.18.3->chromadb) (1.0.1)\n",
      "Requirement already satisfied: watchfiles>=0.13 in c:\\users\\ibnab\\.conda\\envs\\genai\\lib\\site-packages (from uvicorn[standard]>=0.18.3->chromadb) (1.0.4)\n",
      "Requirement already satisfied: websockets>=10.4 in c:\\users\\ibnab\\.conda\\envs\\genai\\lib\\site-packages (from uvicorn[standard]>=0.18.3->chromadb) (14.2)\n",
      "Requirement already satisfied: httplib2<1.dev0,>=0.19.0 in c:\\users\\ibnab\\.conda\\envs\\genai\\lib\\site-packages (from google-api-python-client->google-generativeai>=0.8.3) (0.22.0)\n",
      "Requirement already satisfied: google-auth-httplib2<1.0.0,>=0.2.0 in c:\\users\\ibnab\\.conda\\envs\\genai\\lib\\site-packages (from google-api-python-client->google-generativeai>=0.8.3) (0.2.0)\n",
      "Requirement already satisfied: uritemplate<5,>=3.0.1 in c:\\users\\ibnab\\.conda\\envs\\genai\\lib\\site-packages (from google-api-python-client->google-generativeai>=0.8.3) (4.1.1)\n",
      "Requirement already satisfied: grpcio-status<2.0.dev0,>=1.33.2 in c:\\users\\ibnab\\.conda\\envs\\genai\\lib\\site-packages (from google-api-core[grpc]!=2.0.*,!=2.1.*,!=2.10.*,!=2.2.*,!=2.3.*,!=2.4.*,!=2.5.*,!=2.6.*,!=2.7.*,!=2.8.*,!=2.9.*,<3.0.0dev,>=1.34.1->google-ai-generativelanguage==0.6.15->google-generativeai>=0.8.3) (1.70.0)\n",
      "Requirement already satisfied: pyparsing!=3.0.0,!=3.0.1,!=3.0.2,!=3.0.3,<4,>=2.4.2 in c:\\users\\ibnab\\.conda\\envs\\genai\\lib\\site-packages (from httplib2<1.dev0,>=0.19.0->google-api-python-client->google-generativeai>=0.8.3) (3.2.1)\n",
      "Requirement already satisfied: filelock in c:\\users\\ibnab\\.conda\\envs\\genai\\lib\\site-packages (from huggingface_hub<1.0,>=0.16.4->tokenizers>=0.13.2->chromadb) (3.17.0)\n",
      "Requirement already satisfied: fsspec>=2023.5.0 in c:\\users\\ibnab\\.conda\\envs\\genai\\lib\\site-packages (from huggingface_hub<1.0,>=0.16.4->tokenizers>=0.13.2->chromadb) (2023.10.0)\n",
      "Requirement already satisfied: zipp>=3.20 in c:\\users\\ibnab\\.conda\\envs\\genai\\lib\\site-packages (from importlib-metadata<=8.5.0,>=6.0->opentelemetry-api>=1.2.0->chromadb) (3.21.0)\n",
      "Requirement already satisfied: mdurl~=0.1 in c:\\users\\ibnab\\.conda\\envs\\genai\\lib\\site-packages (from markdown-it-py>=2.2.0->rich>=10.11.0->chromadb) (0.1.2)\n",
      "Requirement already satisfied: pyasn1<0.5.0,>=0.4.6 in c:\\users\\ibnab\\.conda\\envs\\genai\\lib\\site-packages (from pyasn1-modules>=0.2.1->google-auth>=2.15.0->google-generativeai>=0.8.3) (0.4.8)\n",
      "Requirement already satisfied: charset-normalizer<4,>=2 in c:\\users\\ibnab\\.conda\\envs\\genai\\lib\\site-packages (from requests<3.0.0.dev0,>=2.18.0->google-api-core->google-generativeai>=0.8.3) (3.3.2)\n",
      "Requirement already satisfied: exceptiongroup>=1.0.2 in c:\\users\\ibnab\\.conda\\envs\\genai\\lib\\site-packages (from anyio->httpx>=0.27.0->chromadb) (1.2.0)\n",
      "Requirement already satisfied: humanfriendly>=9.1 in c:\\users\\ibnab\\.conda\\envs\\genai\\lib\\site-packages (from coloredlogs->onnxruntime>=1.14.1->chromadb) (10.0)\n",
      "Requirement already satisfied: mpmath<1.4,>=1.1.0 in c:\\users\\ibnab\\.conda\\envs\\genai\\lib\\site-packages (from sympy->onnxruntime>=1.14.1->chromadb) (1.3.0)\n",
      "Requirement already satisfied: pyreadline3 in c:\\users\\ibnab\\.conda\\envs\\genai\\lib\\site-packages (from humanfriendly>=9.1->coloredlogs->onnxruntime>=1.14.1->chromadb) (3.5.4)\n",
      "Note: you may need to restart the kernel to use updated packages.\n"
     ]
    }
   ],
   "source": [
    "%pip install -U \"google-generativeai>=0.8.3\" chromadb"
   ]
  },
  {
   "cell_type": "code",
   "execution_count": 3,
   "metadata": {},
   "outputs": [
    {
     "name": "stdout",
     "output_type": "stream",
     "text": [
      "Requirement already satisfied: ipython in c:\\users\\ibnab\\.conda\\envs\\genai\\lib\\site-packages (8.30.0)\n",
      "Collecting ipython\n",
      "  Downloading ipython-8.32.0-py3-none-any.whl.metadata (5.0 kB)\n",
      "Requirement already satisfied: colorama in c:\\users\\ibnab\\.conda\\envs\\genai\\lib\\site-packages (from ipython) (0.4.6)\n",
      "Requirement already satisfied: decorator in c:\\users\\ibnab\\.conda\\envs\\genai\\lib\\site-packages (from ipython) (5.1.1)\n",
      "Requirement already satisfied: exceptiongroup in c:\\users\\ibnab\\.conda\\envs\\genai\\lib\\site-packages (from ipython) (1.2.0)\n",
      "Requirement already satisfied: jedi>=0.16 in c:\\users\\ibnab\\.conda\\envs\\genai\\lib\\site-packages (from ipython) (0.19.2)\n",
      "Requirement already satisfied: matplotlib-inline in c:\\users\\ibnab\\.conda\\envs\\genai\\lib\\site-packages (from ipython) (0.1.6)\n",
      "Requirement already satisfied: prompt_toolkit<3.1.0,>=3.0.41 in c:\\users\\ibnab\\.conda\\envs\\genai\\lib\\site-packages (from ipython) (3.0.43)\n",
      "Requirement already satisfied: pygments>=2.4.0 in c:\\users\\ibnab\\.conda\\envs\\genai\\lib\\site-packages (from ipython) (2.15.1)\n",
      "Requirement already satisfied: stack_data in c:\\users\\ibnab\\.conda\\envs\\genai\\lib\\site-packages (from ipython) (0.2.0)\n",
      "Requirement already satisfied: traitlets>=5.13.0 in c:\\users\\ibnab\\.conda\\envs\\genai\\lib\\site-packages (from ipython) (5.14.3)\n",
      "Requirement already satisfied: typing_extensions>=4.6 in c:\\users\\ibnab\\.conda\\envs\\genai\\lib\\site-packages (from ipython) (4.12.2)\n",
      "Requirement already satisfied: parso<0.9.0,>=0.8.4 in c:\\users\\ibnab\\.conda\\envs\\genai\\lib\\site-packages (from jedi>=0.16->ipython) (0.8.4)\n",
      "Requirement already satisfied: wcwidth in c:\\users\\ibnab\\.conda\\envs\\genai\\lib\\site-packages (from prompt_toolkit<3.1.0,>=3.0.41->ipython) (0.2.5)\n",
      "Requirement already satisfied: executing in c:\\users\\ibnab\\.conda\\envs\\genai\\lib\\site-packages (from stack_data->ipython) (0.8.3)\n",
      "Requirement already satisfied: asttokens in c:\\users\\ibnab\\.conda\\envs\\genai\\lib\\site-packages (from stack_data->ipython) (2.0.5)\n",
      "Requirement already satisfied: pure-eval in c:\\users\\ibnab\\.conda\\envs\\genai\\lib\\site-packages (from stack_data->ipython) (0.2.2)\n",
      "Requirement already satisfied: six in c:\\users\\ibnab\\.conda\\envs\\genai\\lib\\site-packages (from asttokens->stack_data->ipython) (1.16.0)\n",
      "Downloading ipython-8.32.0-py3-none-any.whl (825 kB)\n",
      "   ---------------------------------------- 0.0/825.5 kB ? eta -:--:--\n",
      "   ---------------------------------------- 0.0/825.5 kB ? eta -:--:--\n",
      "   ------------ --------------------------- 262.1/825.5 kB ? eta -:--:--\n",
      "   -------------------------------------- - 786.4/825.5 kB 2.4 MB/s eta 0:00:01\n",
      "   ---------------------------------------- 825.5/825.5 kB 1.6 MB/s eta 0:00:00\n",
      "Installing collected packages: ipython\n",
      "  Attempting uninstall: ipython\n",
      "    Found existing installation: ipython 8.30.0\n",
      "    Uninstalling ipython-8.30.0:\n",
      "      Successfully uninstalled ipython-8.30.0\n",
      "Successfully installed ipython-8.32.0\n",
      "Note: you may need to restart the kernel to use updated packages.\n"
     ]
    }
   ],
   "source": [
    "%pip install -U ipython"
   ]
  },
  {
   "cell_type": "code",
   "execution_count": 1,
   "metadata": {},
   "outputs": [
    {
     "ename": "ModuleNotFoundError",
     "evalue": "No module named 'Ipython'",
     "output_type": "error",
     "traceback": [
      "\u001b[1;31m---------------------------------------------------------------------------\u001b[0m",
      "\u001b[1;31mModuleNotFoundError\u001b[0m                       Traceback (most recent call last)",
      "Cell \u001b[1;32mIn[1], line 2\u001b[0m\n\u001b[0;32m      1\u001b[0m \u001b[38;5;28;01mimport\u001b[39;00m \u001b[38;5;21;01mgoogle\u001b[39;00m\u001b[38;5;21;01m.\u001b[39;00m\u001b[38;5;21;01mgenerativeai\u001b[39;00m \u001b[38;5;28;01mas\u001b[39;00m \u001b[38;5;21;01mgenai\u001b[39;00m\n\u001b[1;32m----> 2\u001b[0m \u001b[38;5;28;01mfrom\u001b[39;00m \u001b[38;5;21;01mIpython\u001b[39;00m\u001b[38;5;21;01m.\u001b[39;00m\u001b[38;5;21;01mdisplay\u001b[39;00m \u001b[38;5;28;01mimport\u001b[39;00m Markdown\n",
      "\u001b[1;31mModuleNotFoundError\u001b[0m: No module named 'Ipython'"
     ]
    }
   ],
   "source": [
    "import google.generativeai as genai\n",
    "from Ipython.display import Markdown"
   ]
  },
  {
   "cell_type": "markdown",
   "metadata": {},
   "source": []
  }
 ],
 "metadata": {
  "kernelspec": {
   "display_name": "Python 3 (ipykernel)",
   "language": "python",
   "name": "python3"
  },
  "language_info": {
   "codemirror_mode": {
    "name": "ipython",
    "version": 3
   },
   "file_extension": ".py",
   "mimetype": "text/x-python",
   "name": "python",
   "nbconvert_exporter": "python",
   "pygments_lexer": "ipython3",
   "version": "3.10.13"
  }
 },
 "nbformat": 4,
 "nbformat_minor": 4
}
